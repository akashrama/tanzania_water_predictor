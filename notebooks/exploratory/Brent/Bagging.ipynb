{
 "cells": [
  {
   "cell_type": "markdown",
   "metadata": {},
   "source": [
    "# Bagging Classifier"
   ]
  },
  {
   "cell_type": "code",
   "execution_count": 20,
   "metadata": {},
   "outputs": [
    {
     "name": "stdout",
     "output_type": "stream",
     "text": [
      "The autoreload extension is already loaded. To reload it, use:\n",
      "  %reload_ext autoreload\n"
     ]
    }
   ],
   "source": [
    "%load_ext autoreload\n",
    "%autoreload 2"
   ]
  },
  {
   "cell_type": "code",
   "execution_count": 81,
   "metadata": {},
   "outputs": [],
   "source": [
    "import pickle \n",
    "import pandas as pd\n",
    "import numpy as np\n",
    "from sklearn.model_selection import train_test_split\n",
    "from sklearn.model_selection import GridSearchCV, cross_val_score\n",
    "from sklearn.ensemble import BaggingClassifier\n",
    "from sklearn.metrics import recall_score, hamming_loss, f1_score, precision_score \n",
    "from src.utilities import data_cleaning, competition_submission \n"
   ]
  },
  {
   "cell_type": "markdown",
   "metadata": {},
   "source": [
    "### Import the pickled dataframes from the Eda_cleaning notebook:"
   ]
  },
  {
   "cell_type": "code",
   "execution_count": 11,
   "metadata": {},
   "outputs": [],
   "source": [
    "with open(\"pump_predictors_data_cleaned.pickle\", \"rb\") as f: # \"wb\" means \"write as bytes\"\n",
    "    dum_df = pickle.load(f)\n",
    "    \n",
    "    \n",
    "with open(\"pump_target_data_cleaned.pickle\", \"rb\") as f: # \"wb\" means \"write as bytes\"\n",
    "    target = pickle.load(f)"
   ]
  },
  {
   "cell_type": "code",
   "execution_count": 12,
   "metadata": {},
   "outputs": [],
   "source": [
    "# Train, test, split:\n",
    "X_train, X_test, y_train, y_test = train_test_split(dum_df, target)\n",
    "\n"
   ]
  },
  {
   "cell_type": "code",
   "execution_count": 13,
   "metadata": {},
   "outputs": [],
   "source": [
    "def get_score(model, X_train, y_train, y_train_hat):\n",
    "    rec = recall_score(y_train, y_train_hat, average = 'weighted')\n",
    "    hamming = hamming_loss(y_train, y_train_hat)\n",
    "    f1 = f1_score(y_train, y_train_hat, average = 'weighted')\n",
    "    prec = precision_score(y_train, y_train_hat, average = 'weighted')\n",
    "    acc = model.score(X_train, y_train)\n",
    "    print(f\"\"\"\n",
    "        Recall Score: {rec} \n",
    "        Hamming Loss: {hamming} \n",
    "        f1 Score: {f1} \n",
    "        Precision Score: {prec}\n",
    "        Accuracy: {acc}\"\"\")"
   ]
  },
  {
   "cell_type": "code",
   "execution_count": 14,
   "metadata": {},
   "outputs": [
    {
     "name": "stdout",
     "output_type": "stream",
     "text": [
      "\n",
      "        Recall Score: 0.9029854096520763 \n",
      "        Hamming Loss: 0.09701459034792369 \n",
      "        f1 Score: 0.8990507722097276 \n",
      "        Precision Score: 0.9045023539589525\n",
      "        Accuracy: 0.9029854096520763\n"
     ]
    }
   ],
   "source": [
    "bt2 = BaggingClassifier(max_features=0.6, max_samples= 0.4,\n",
    " n_estimators= 200)\n",
    "\n",
    "bt2.fit(X_train, y_train)\n",
    "\n",
    "y_train_pred_bt2 = bt2.predict(X_train)\n",
    "\n",
    "get_score(bt2, X_train, y_train, y_train_pred_bt2)"
   ]
  },
  {
   "cell_type": "code",
   "execution_count": 17,
   "metadata": {},
   "outputs": [
    {
     "name": "stdout",
     "output_type": "stream",
     "text": [
      "Mean Cross Validation Best Param Score: 79.94%\n"
     ]
    }
   ],
   "source": [
    "bt2_cv_score = cross_val_score(bt2, X_train, y_train, cv=7)\n",
    "mean_bt2_cv_score = np.mean(bt2_cv_score)\n",
    "print(f\"Mean Cross Validation Best Param Score: {mean_bt2_cv_score :.2%}\")\n",
    "\n"
   ]
  },
  {
   "cell_type": "markdown",
   "metadata": {},
   "source": [
    "### Apply model to competition test data"
   ]
  },
  {
   "cell_type": "code",
   "execution_count": 85,
   "metadata": {},
   "outputs": [
    {
     "name": "stderr",
     "output_type": "stream",
     "text": [
      "/Users/brentsair/anaconda3/envs/tanz-water/lib/python3.6/site-packages/pandas/core/indexing.py:205: SettingWithCopyWarning: \n",
      "A value is trying to be set on a copy of a slice from a DataFrame\n",
      "\n",
      "See the caveats in the documentation: http://pandas.pydata.org/pandas-docs/stable/user_guide/indexing.html#returning-a-view-versus-a-copy\n",
      "  self._setitem_with_indexer(indexer, value)\n"
     ]
    },
    {
     "name": "stdout",
     "output_type": "stream",
     "text": [
      "data is cleaned and encoded\n",
      "Prediction for test data finished\n",
      "Store submission dataframe into file: successfully\n"
     ]
    }
   ],
   "source": [
    "competition_submission.submit_test_data(bt2)"
   ]
  },
  {
   "cell_type": "code",
   "execution_count": null,
   "metadata": {},
   "outputs": [],
   "source": []
  }
 ],
 "metadata": {
  "kernelspec": {
   "display_name": "Python (tanz-water)",
   "language": "python",
   "name": "tanz-water"
  },
  "language_info": {
   "codemirror_mode": {
    "name": "ipython",
    "version": 3
   },
   "file_extension": ".py",
   "mimetype": "text/x-python",
   "name": "python",
   "nbconvert_exporter": "python",
   "pygments_lexer": "ipython3",
   "version": "3.6.6"
  }
 },
 "nbformat": 4,
 "nbformat_minor": 2
}
