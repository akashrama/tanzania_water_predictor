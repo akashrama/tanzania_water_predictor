{
 "cells": [
  {
   "cell_type": "markdown",
   "metadata": {},
   "source": [
    "# Data Cleaning and EDA\n",
    "\n",
    "### Import packages and data\n"
   ]
  },
  {
   "cell_type": "code",
   "execution_count": 1,
   "metadata": {},
   "outputs": [],
   "source": [
    "\n",
    "import pandas as pd\n",
    "from sklearn.model_selection import train_test_split\n",
    "from sklearn.preprocessing import LabelEncoder\n",
    "from sklearn.preprocessing import OneHotEncoder\n",
    "# from xgboost import XGBClassifier\n",
    "import seaborn as sns"
   ]
  },
  {
   "cell_type": "code",
   "execution_count": 2,
   "metadata": {},
   "outputs": [],
   "source": [
    "#import training data \n",
    "df_train = pd.read_csv('../../../data/raw/train_set_values.csv')\n",
    "df_labels = pd.read_csv('../../../data/raw/train_set_labels.csv')\n",
    "\n",
    "#merge labels and features:\n",
    "df_train= pd.merge(df_train, df_labels, on='id')\n"
   ]
  },
  {
   "cell_type": "code",
   "execution_count": 4,
   "metadata": {},
   "outputs": [
    {
     "name": "stdout",
     "output_type": "stream",
     "text": [
      "functional                 32259\n",
      "non functional             22824\n",
      "functional needs repair     4317\n",
      "Name: status_group, dtype: int64\n"
     ]
    },
    {
     "data": {
      "text/plain": [
       "<seaborn.axisgrid.FacetGrid at 0x1078620f0>"
      ]
     },
     "execution_count": 4,
     "metadata": {},
     "output_type": "execute_result"
    },
    {
     "data": {
      "image/png": "[encoded data removed]",
      "text/plain": [
       "<Figure size 360x360 with 1 Axes>"
      ]
     },
     "metadata": {
      "needs_background": "light"
     },
     "output_type": "display_data"
    }
   ],
   "source": [
    "#check the target classes counts:\n",
    "print(df_train.status_group.value_counts())\n",
    "sns.catplot(x=\"status_group\", kind=\"count\", palette=\"ch:.25\", data=df_train)"
   ]
  },
  {
   "cell_type": "markdown",
   "metadata": {},
   "source": [
    "Seems like 'functional' and 'non-functional' are almost balanced enough.... but 'functional needs repair' has a big class inbalance. We'll need to address this later at some point in time... maybe through upsampling, or maybe we could just lump it into non-functional. "
   ]
  },
  {
   "cell_type": "markdown",
   "metadata": {},
   "source": [
    "### Clean NaN Values"
   ]
  },
  {
   "cell_type": "code",
   "execution_count": 5,
   "metadata": {},
   "outputs": [
    {
     "data": {
      "text/plain": [
       "id                           0\n",
       "amount_tsh                   0\n",
       "date_recorded                0\n",
       "funder                    3635\n",
       "gps_height                   0\n",
       "installer                 3655\n",
       "longitude                    0\n",
       "latitude                     0\n",
       "wpt_name                     0\n",
       "num_private                  0\n",
       "basin                        0\n",
       "subvillage                 371\n",
       "region                       0\n",
       "region_code                  0\n",
       "district_code                0\n",
       "lga                          0\n",
       "ward                         0\n",
       "population                   0\n",
       "public_meeting            3334\n",
       "recorded_by                  0\n",
       "scheme_management         3877\n",
       "scheme_name              28166\n",
       "permit                    3056\n",
       "construction_year            0\n",
       "extraction_type              0\n",
       "extraction_type_group        0\n",
       "extraction_type_class        0\n",
       "management                   0\n",
       "management_group             0\n",
       "payment                      0\n",
       "payment_type                 0\n",
       "water_quality                0\n",
       "quality_group                0\n",
       "quantity                     0\n",
       "quantity_group               0\n",
       "source                       0\n",
       "source_type                  0\n",
       "source_class                 0\n",
       "waterpoint_type              0\n",
       "waterpoint_type_group        0\n",
       "status_group                 0\n",
       "dtype: int64"
      ]
     },
     "execution_count": 5,
     "metadata": {},
     "output_type": "execute_result"
    }
   ],
   "source": [
    "#find out which features have NAN values. \n",
    "df_train.isnull().sum()"
   ]
  },
  {
   "cell_type": "markdown",
   "metadata": {},
   "source": [
    "There are many features with NaN values. We'll need to address each of these on a case by case basis as far as what we want to do with the empty values. "
   ]
  },
  {
   "cell_type": "code",
   "execution_count": 6,
   "metadata": {},
   "outputs": [
    {
     "name": "stdout",
     "output_type": "stream",
     "text": [
      "2696\n"
     ]
    },
    {
     "data": {
      "text/plain": [
       "K                            682\n",
       "None                         644\n",
       "Borehole                     546\n",
       "Chalinze wate                405\n",
       "M                            400\n",
       "                            ... \n",
       "Mtunguruzi                     1\n",
       "LENCH TARAMAI                  1\n",
       "Mradi wa maji wa Ndongosi      1\n",
       "Mondoros water scheme          1\n",
       "Kalemela Mwaloni               1\n",
       "Name: scheme_name, Length: 2696, dtype: int64"
      ]
     },
     "execution_count": 6,
     "metadata": {},
     "output_type": "execute_result"
    }
   ],
   "source": [
    "#start with 'scheme_name' since there are so many empty values. \n",
    "print(len(df_train.scheme_name.value_counts()))\n",
    "df_train.scheme_name.value_counts()"
   ]
  },
  {
   "cell_type": "code",
   "execution_count": 7,
   "metadata": {},
   "outputs": [
    {
     "name": "stdout",
     "output_type": "stream",
     "text": [
      "12\n"
     ]
    },
    {
     "data": {
      "text/plain": [
       "VWC                 36793\n",
       "WUG                  5206\n",
       "Water authority      3153\n",
       "WUA                  2883\n",
       "Water Board          2748\n",
       "Parastatal           1680\n",
       "Private operator     1063\n",
       "Company              1061\n",
       "Other                 766\n",
       "SWC                    97\n",
       "Trust                  72\n",
       "None                    1\n",
       "Name: scheme_management, dtype: int64"
      ]
     },
     "execution_count": 7,
     "metadata": {},
     "output_type": "execute_result"
    }
   ],
   "source": [
    "#According to the feature descriptions this is the same\n",
    "#as scheme_management, so lets check this:\n",
    "print(len(df_train.scheme_management.value_counts()))\n",
    "df_train.scheme_management.value_counts()"
   ]
  },
  {
   "cell_type": "markdown",
   "metadata": {},
   "source": [
    "Ok, scheme_name and scheme_management seem to be different, but because there are over 2669 values for scheme_name and there are 28166 missing values, droping that column will likely not reduce in any loss in predictive power. "
   ]
  },
  {
   "cell_type": "code",
   "execution_count": 8,
   "metadata": {},
   "outputs": [],
   "source": [
    "df_train = df_train.drop('scheme_name', axis=1)"
   ]
  },
  {
   "cell_type": "code",
   "execution_count": 9,
   "metadata": {},
   "outputs": [],
   "source": [
    "#functions to aid in data cleaning\n",
    "\n",
    "def values_to_keep(df, column, number_of_values_to_keep, verbose = False):\n",
    "    \"\"\"\n",
    "    This function takes in a pandas dataframe, the column of concern, and a number of categories to reduce the number \n",
    "    of unique values to. It prints the number of unique values in the column and the top value counts of each. It also\n",
    "    returns a list of categorical values to retain. \n",
    "    \"\"\"\n",
    "    number_of_values_to_keep = number_of_values_to_keep-1\n",
    "    \n",
    "    if verbose == True:\n",
    "        print(len(df[column].value_counts()))\n",
    "        print(df[column].value_counts())\n",
    "        \n",
    "        list_of_values = df[column].value_counts()\n",
    "        list_of_values_to_keep = list(list_of_values[0:number_of_values_to_keep].index)\n",
    "    else:\n",
    "        \n",
    "        list_of_values = df[column].value_counts()\n",
    "        list_of_values_to_keep = list(list_of_values[0:number_of_values_to_keep].index)\n",
    "        \n",
    "    return list_of_values_to_keep\n",
    "\n",
    "def reduce_categorical_values(df, column_name, number_of_values_to_keep):\n",
    "    \n",
    "    \"\"\"\n",
    "    This function reduces the number of unique categorical values in a specific dataframe's column. It keeps the top \n",
    "    'number_of_values_to_keep' values, and casts the other remaining categorical values as \"Other\". This function \n",
    "    returns a Dataframe with the altered categorical values. Using this function can reduce the amount of dummy columns\n",
    "    needed whilst maintaining the information contained in the column.\n",
    "    \"\"\"\n",
    "    #use helper function to create a list of cat. values to keep\n",
    "    list_of_classes_to_keep = values_to_keep(df, column_name, number_of_values_to_keep)\n",
    "    \n",
    "    #use subsetting to test if cat. value is in list, if not cast it to 'Other'    \"~\" means isNOTin \n",
    "    df[column_name].loc[~df[column_name].isin(list_of_classes_to_keep)]='Other'\n",
    "    \n",
    "    return df\n",
    "\n",
    "def plot_feature(df, pred_col, target_variable, height = 10):\n",
    "    \n",
    "    \"\"\"\n",
    "    Produces a categorical bar plot visualizing the number of observations in each target category for each predicitve \n",
    "    value. \n",
    "    \"\"\"\n",
    "    \n",
    "    sns.catplot(y=pred_col, hue=target_variable, kind=\"count\",\n",
    "            palette=\"ch:.25\", edgecolor=\".6\",\n",
    "            data=df, height= height); \n",
    "\n",
    "# def reduce_categorical_values(df, column_name, number_of_values_to_keep):\n",
    "    \n",
    "#     \"\"\"\n",
    "#     This function reduces the number of unique categorical values in a specific dataframe's column. It keeps the top \n",
    "#     'number_of_values_to_keep' values, and casts the other remaining categorical values as \"Other\". This function \n",
    "#     returns a Dataframe with the altered categorical values.\n",
    "#     \"\"\"\n",
    "#     list_of_classes_to_keep = values_to_keep(df, column_name, number_of_values_to_keep)\n",
    "#     for value in df[column_name].unique():\n",
    "#         if value in list_of_classes_to_keep:\n",
    "#             pass\n",
    "#         else:\n",
    "#             df.loc[df[column_name]== value]=\"Other\"\n",
    "#     return df\n"
   ]
  },
  {
   "cell_type": "code",
   "execution_count": 10,
   "metadata": {},
   "outputs": [
    {
     "name": "stdout",
     "output_type": "stream",
     "text": [
      "1897\n",
      "Government Of Tanzania    9084\n",
      "Danida                    3114\n",
      "Hesawa                    2202\n",
      "Rwssp                     1374\n",
      "World Bank                1349\n",
      "                          ... \n",
      "Godii                        1\n",
      "Matata Selemani              1\n",
      "Upendo Primary School        1\n",
      "Mzee Ngwatu                  1\n",
      "Municipal Council            1\n",
      "Name: funder, Length: 1897, dtype: int64\n"
     ]
    },
    {
     "data": {
      "text/plain": [
       "['Government Of Tanzania',\n",
       " 'Danida',\n",
       " 'Hesawa',\n",
       " 'Rwssp',\n",
       " 'World Bank',\n",
       " 'Kkkt',\n",
       " 'World Vision',\n",
       " 'Unicef',\n",
       " 'Tasaf']"
      ]
     },
     "execution_count": 10,
     "metadata": {},
     "output_type": "execute_result"
    }
   ],
   "source": [
    "#ok, now lets check the rest in descending order starting with 'funder':\n",
    "#Lets find the number of categorical values in 'funder', and the top 10 values:\n",
    "values_to_keep(df_train, 'funder', 10, verbose=True)"
   ]
  },
  {
   "cell_type": "markdown",
   "metadata": {},
   "source": [
    "'funder' has 1897 unique categories, ~3000 NaN values, but clearly the majority of the water pumps come from a few of the different funders. it doesnt seem right to just fill the NaNs with the mode. There are also way to many to OneHotEncode. Lets instead turn it into 10 categories: the top 9 frequently occuring values,  and one \"other\" category which will include all other categories + the NaN values."
   ]
  },
  {
   "cell_type": "code",
   "execution_count": 11,
   "metadata": {},
   "outputs": [
    {
     "name": "stderr",
     "output_type": "stream",
     "text": [
      "/Users/brentsair/anaconda3/envs/tanz-water/lib/python3.6/site-packages/pandas/core/indexing.py:205: SettingWithCopyWarning: \n",
      "A value is trying to be set on a copy of a slice from a DataFrame\n",
      "\n",
      "See the caveats in the documentation: http://pandas.pydata.org/pandas-docs/stable/user_guide/indexing.html#returning-a-view-versus-a-copy\n",
      "  self._setitem_with_indexer(indexer, value)\n"
     ]
    },
    {
     "data": {
      "text/html": [
       "<div>\n",
       "<style scoped>\n",
       "    .dataframe tbody tr th:only-of-type {\n",
       "        vertical-align: middle;\n",
       "    }\n",
       "\n",
       "    .dataframe tbody tr th {\n",
       "        vertical-align: top;\n",
       "    }\n",
       "\n",
       "    .dataframe thead th {\n",
       "        text-align: right;\n",
       "    }\n",
       "</style>\n",
       "<table border=\"1\" class=\"dataframe\">\n",
       "  <thead>\n",
       "    <tr style=\"text-align: right;\">\n",
       "      <th></th>\n",
       "      <th>id</th>\n",
       "      <th>amount_tsh</th>\n",
       "      <th>date_recorded</th>\n",
       "      <th>funder</th>\n",
       "      <th>gps_height</th>\n",
       "      <th>installer</th>\n",
       "      <th>longitude</th>\n",
       "      <th>latitude</th>\n",
       "      <th>wpt_name</th>\n",
       "      <th>num_private</th>\n",
       "      <th>...</th>\n",
       "      <th>water_quality</th>\n",
       "      <th>quality_group</th>\n",
       "      <th>quantity</th>\n",
       "      <th>quantity_group</th>\n",
       "      <th>source</th>\n",
       "      <th>source_type</th>\n",
       "      <th>source_class</th>\n",
       "      <th>waterpoint_type</th>\n",
       "      <th>waterpoint_type_group</th>\n",
       "      <th>status_group</th>\n",
       "    </tr>\n",
       "  </thead>\n",
       "  <tbody>\n",
       "    <tr>\n",
       "      <th>0</th>\n",
       "      <td>69572</td>\n",
       "      <td>6000.0</td>\n",
       "      <td>2011-03-14</td>\n",
       "      <td>Other</td>\n",
       "      <td>1390</td>\n",
       "      <td>Roman</td>\n",
       "      <td>34.938093</td>\n",
       "      <td>-9.856322</td>\n",
       "      <td>none</td>\n",
       "      <td>0</td>\n",
       "      <td>...</td>\n",
       "      <td>soft</td>\n",
       "      <td>good</td>\n",
       "      <td>enough</td>\n",
       "      <td>enough</td>\n",
       "      <td>spring</td>\n",
       "      <td>spring</td>\n",
       "      <td>groundwater</td>\n",
       "      <td>communal standpipe</td>\n",
       "      <td>communal standpipe</td>\n",
       "      <td>functional</td>\n",
       "    </tr>\n",
       "    <tr>\n",
       "      <th>1</th>\n",
       "      <td>8776</td>\n",
       "      <td>0.0</td>\n",
       "      <td>2013-03-06</td>\n",
       "      <td>Other</td>\n",
       "      <td>1399</td>\n",
       "      <td>GRUMETI</td>\n",
       "      <td>34.698766</td>\n",
       "      <td>-2.147466</td>\n",
       "      <td>Zahanati</td>\n",
       "      <td>0</td>\n",
       "      <td>...</td>\n",
       "      <td>soft</td>\n",
       "      <td>good</td>\n",
       "      <td>insufficient</td>\n",
       "      <td>insufficient</td>\n",
       "      <td>rainwater harvesting</td>\n",
       "      <td>rainwater harvesting</td>\n",
       "      <td>surface</td>\n",
       "      <td>communal standpipe</td>\n",
       "      <td>communal standpipe</td>\n",
       "      <td>functional</td>\n",
       "    </tr>\n",
       "    <tr>\n",
       "      <th>2</th>\n",
       "      <td>34310</td>\n",
       "      <td>25.0</td>\n",
       "      <td>2013-02-25</td>\n",
       "      <td>Other</td>\n",
       "      <td>686</td>\n",
       "      <td>World vision</td>\n",
       "      <td>37.460664</td>\n",
       "      <td>-3.821329</td>\n",
       "      <td>Kwa Mahundi</td>\n",
       "      <td>0</td>\n",
       "      <td>...</td>\n",
       "      <td>soft</td>\n",
       "      <td>good</td>\n",
       "      <td>enough</td>\n",
       "      <td>enough</td>\n",
       "      <td>dam</td>\n",
       "      <td>dam</td>\n",
       "      <td>surface</td>\n",
       "      <td>communal standpipe multiple</td>\n",
       "      <td>communal standpipe</td>\n",
       "      <td>functional</td>\n",
       "    </tr>\n",
       "    <tr>\n",
       "      <th>3</th>\n",
       "      <td>67743</td>\n",
       "      <td>0.0</td>\n",
       "      <td>2013-01-28</td>\n",
       "      <td>Unicef</td>\n",
       "      <td>263</td>\n",
       "      <td>UNICEF</td>\n",
       "      <td>38.486161</td>\n",
       "      <td>-11.155298</td>\n",
       "      <td>Zahanati Ya Nanyumbu</td>\n",
       "      <td>0</td>\n",
       "      <td>...</td>\n",
       "      <td>soft</td>\n",
       "      <td>good</td>\n",
       "      <td>dry</td>\n",
       "      <td>dry</td>\n",
       "      <td>machine dbh</td>\n",
       "      <td>borehole</td>\n",
       "      <td>groundwater</td>\n",
       "      <td>communal standpipe multiple</td>\n",
       "      <td>communal standpipe</td>\n",
       "      <td>non functional</td>\n",
       "    </tr>\n",
       "    <tr>\n",
       "      <th>4</th>\n",
       "      <td>19728</td>\n",
       "      <td>0.0</td>\n",
       "      <td>2011-07-13</td>\n",
       "      <td>Other</td>\n",
       "      <td>0</td>\n",
       "      <td>Artisan</td>\n",
       "      <td>31.130847</td>\n",
       "      <td>-1.825359</td>\n",
       "      <td>Shuleni</td>\n",
       "      <td>0</td>\n",
       "      <td>...</td>\n",
       "      <td>soft</td>\n",
       "      <td>good</td>\n",
       "      <td>seasonal</td>\n",
       "      <td>seasonal</td>\n",
       "      <td>rainwater harvesting</td>\n",
       "      <td>rainwater harvesting</td>\n",
       "      <td>surface</td>\n",
       "      <td>communal standpipe</td>\n",
       "      <td>communal standpipe</td>\n",
       "      <td>functional</td>\n",
       "    </tr>\n",
       "    <tr>\n",
       "      <th>...</th>\n",
       "      <td>...</td>\n",
       "      <td>...</td>\n",
       "      <td>...</td>\n",
       "      <td>...</td>\n",
       "      <td>...</td>\n",
       "      <td>...</td>\n",
       "      <td>...</td>\n",
       "      <td>...</td>\n",
       "      <td>...</td>\n",
       "      <td>...</td>\n",
       "      <td>...</td>\n",
       "      <td>...</td>\n",
       "      <td>...</td>\n",
       "      <td>...</td>\n",
       "      <td>...</td>\n",
       "      <td>...</td>\n",
       "      <td>...</td>\n",
       "      <td>...</td>\n",
       "      <td>...</td>\n",
       "      <td>...</td>\n",
       "      <td>...</td>\n",
       "    </tr>\n",
       "    <tr>\n",
       "      <th>59395</th>\n",
       "      <td>60739</td>\n",
       "      <td>10.0</td>\n",
       "      <td>2013-05-03</td>\n",
       "      <td>Other</td>\n",
       "      <td>1210</td>\n",
       "      <td>CES</td>\n",
       "      <td>37.169807</td>\n",
       "      <td>-3.253847</td>\n",
       "      <td>Area Three Namba 27</td>\n",
       "      <td>0</td>\n",
       "      <td>...</td>\n",
       "      <td>soft</td>\n",
       "      <td>good</td>\n",
       "      <td>enough</td>\n",
       "      <td>enough</td>\n",
       "      <td>spring</td>\n",
       "      <td>spring</td>\n",
       "      <td>groundwater</td>\n",
       "      <td>communal standpipe</td>\n",
       "      <td>communal standpipe</td>\n",
       "      <td>functional</td>\n",
       "    </tr>\n",
       "    <tr>\n",
       "      <th>59396</th>\n",
       "      <td>27263</td>\n",
       "      <td>4700.0</td>\n",
       "      <td>2011-05-07</td>\n",
       "      <td>Other</td>\n",
       "      <td>1212</td>\n",
       "      <td>Cefa</td>\n",
       "      <td>35.249991</td>\n",
       "      <td>-9.070629</td>\n",
       "      <td>Kwa Yahona Kuvala</td>\n",
       "      <td>0</td>\n",
       "      <td>...</td>\n",
       "      <td>soft</td>\n",
       "      <td>good</td>\n",
       "      <td>enough</td>\n",
       "      <td>enough</td>\n",
       "      <td>river</td>\n",
       "      <td>river/lake</td>\n",
       "      <td>surface</td>\n",
       "      <td>communal standpipe</td>\n",
       "      <td>communal standpipe</td>\n",
       "      <td>functional</td>\n",
       "    </tr>\n",
       "    <tr>\n",
       "      <th>59397</th>\n",
       "      <td>37057</td>\n",
       "      <td>0.0</td>\n",
       "      <td>2011-04-11</td>\n",
       "      <td>Other</td>\n",
       "      <td>0</td>\n",
       "      <td>NaN</td>\n",
       "      <td>34.017087</td>\n",
       "      <td>-8.750434</td>\n",
       "      <td>Mashine</td>\n",
       "      <td>0</td>\n",
       "      <td>...</td>\n",
       "      <td>fluoride</td>\n",
       "      <td>fluoride</td>\n",
       "      <td>enough</td>\n",
       "      <td>enough</td>\n",
       "      <td>machine dbh</td>\n",
       "      <td>borehole</td>\n",
       "      <td>groundwater</td>\n",
       "      <td>hand pump</td>\n",
       "      <td>hand pump</td>\n",
       "      <td>functional</td>\n",
       "    </tr>\n",
       "    <tr>\n",
       "      <th>59398</th>\n",
       "      <td>31282</td>\n",
       "      <td>0.0</td>\n",
       "      <td>2011-03-08</td>\n",
       "      <td>Other</td>\n",
       "      <td>0</td>\n",
       "      <td>Musa</td>\n",
       "      <td>35.861315</td>\n",
       "      <td>-6.378573</td>\n",
       "      <td>Mshoro</td>\n",
       "      <td>0</td>\n",
       "      <td>...</td>\n",
       "      <td>soft</td>\n",
       "      <td>good</td>\n",
       "      <td>insufficient</td>\n",
       "      <td>insufficient</td>\n",
       "      <td>shallow well</td>\n",
       "      <td>shallow well</td>\n",
       "      <td>groundwater</td>\n",
       "      <td>hand pump</td>\n",
       "      <td>hand pump</td>\n",
       "      <td>functional</td>\n",
       "    </tr>\n",
       "    <tr>\n",
       "      <th>59399</th>\n",
       "      <td>26348</td>\n",
       "      <td>0.0</td>\n",
       "      <td>2011-03-23</td>\n",
       "      <td>World Bank</td>\n",
       "      <td>191</td>\n",
       "      <td>World</td>\n",
       "      <td>38.104048</td>\n",
       "      <td>-6.747464</td>\n",
       "      <td>Kwa Mzee Lugawa</td>\n",
       "      <td>0</td>\n",
       "      <td>...</td>\n",
       "      <td>salty</td>\n",
       "      <td>salty</td>\n",
       "      <td>enough</td>\n",
       "      <td>enough</td>\n",
       "      <td>shallow well</td>\n",
       "      <td>shallow well</td>\n",
       "      <td>groundwater</td>\n",
       "      <td>hand pump</td>\n",
       "      <td>hand pump</td>\n",
       "      <td>functional</td>\n",
       "    </tr>\n",
       "  </tbody>\n",
       "</table>\n",
       "<p>59400 rows × 40 columns</p>\n",
       "</div>"
      ],
      "text/plain": [
       "          id  amount_tsh date_recorded      funder  gps_height     installer  \\\n",
       "0      69572      6000.0    2011-03-14       Other        1390         Roman   \n",
       "1       8776         0.0    2013-03-06       Other        1399       GRUMETI   \n",
       "2      34310        25.0    2013-02-25       Other         686  World vision   \n",
       "3      67743         0.0    2013-01-28      Unicef         263        UNICEF   \n",
       "4      19728         0.0    2011-07-13       Other           0       Artisan   \n",
       "...      ...         ...           ...         ...         ...           ...   \n",
       "59395  60739        10.0    2013-05-03       Other        1210           CES   \n",
       "59396  27263      4700.0    2011-05-07       Other        1212          Cefa   \n",
       "59397  37057         0.0    2011-04-11       Other           0           NaN   \n",
       "59398  31282         0.0    2011-03-08       Other           0          Musa   \n",
       "59399  26348         0.0    2011-03-23  World Bank         191         World   \n",
       "\n",
       "       longitude   latitude              wpt_name  num_private  ...  \\\n",
       "0      34.938093  -9.856322                  none            0  ...   \n",
       "1      34.698766  -2.147466              Zahanati            0  ...   \n",
       "2      37.460664  -3.821329           Kwa Mahundi            0  ...   \n",
       "3      38.486161 -11.155298  Zahanati Ya Nanyumbu            0  ...   \n",
       "4      31.130847  -1.825359               Shuleni            0  ...   \n",
       "...          ...        ...                   ...          ...  ...   \n",
       "59395  37.169807  -3.253847   Area Three Namba 27            0  ...   \n",
       "59396  35.249991  -9.070629     Kwa Yahona Kuvala            0  ...   \n",
       "59397  34.017087  -8.750434               Mashine            0  ...   \n",
       "59398  35.861315  -6.378573                Mshoro            0  ...   \n",
       "59399  38.104048  -6.747464       Kwa Mzee Lugawa            0  ...   \n",
       "\n",
       "      water_quality quality_group      quantity  quantity_group  \\\n",
       "0              soft          good        enough          enough   \n",
       "1              soft          good  insufficient    insufficient   \n",
       "2              soft          good        enough          enough   \n",
       "3              soft          good           dry             dry   \n",
       "4              soft          good      seasonal        seasonal   \n",
       "...             ...           ...           ...             ...   \n",
       "59395          soft          good        enough          enough   \n",
       "59396          soft          good        enough          enough   \n",
       "59397      fluoride      fluoride        enough          enough   \n",
       "59398          soft          good  insufficient    insufficient   \n",
       "59399         salty         salty        enough          enough   \n",
       "\n",
       "                     source           source_type source_class  \\\n",
       "0                    spring                spring  groundwater   \n",
       "1      rainwater harvesting  rainwater harvesting      surface   \n",
       "2                       dam                   dam      surface   \n",
       "3               machine dbh              borehole  groundwater   \n",
       "4      rainwater harvesting  rainwater harvesting      surface   \n",
       "...                     ...                   ...          ...   \n",
       "59395                spring                spring  groundwater   \n",
       "59396                 river            river/lake      surface   \n",
       "59397           machine dbh              borehole  groundwater   \n",
       "59398          shallow well          shallow well  groundwater   \n",
       "59399          shallow well          shallow well  groundwater   \n",
       "\n",
       "                   waterpoint_type waterpoint_type_group    status_group  \n",
       "0               communal standpipe    communal standpipe      functional  \n",
       "1               communal standpipe    communal standpipe      functional  \n",
       "2      communal standpipe multiple    communal standpipe      functional  \n",
       "3      communal standpipe multiple    communal standpipe  non functional  \n",
       "4               communal standpipe    communal standpipe      functional  \n",
       "...                            ...                   ...             ...  \n",
       "59395           communal standpipe    communal standpipe      functional  \n",
       "59396           communal standpipe    communal standpipe      functional  \n",
       "59397                    hand pump             hand pump      functional  \n",
       "59398                    hand pump             hand pump      functional  \n",
       "59399                    hand pump             hand pump      functional  \n",
       "\n",
       "[59400 rows x 40 columns]"
      ]
     },
     "execution_count": 11,
     "metadata": {},
     "output_type": "execute_result"
    }
   ],
   "source": [
    "reduce_categorical_values(df_train, 'funder', 10)"
   ]
  },
  {
   "cell_type": "code",
   "execution_count": 12,
   "metadata": {},
   "outputs": [
    {
     "name": "stdout",
     "output_type": "stream",
     "text": [
      "10\n",
      "Other                     37810\n",
      "Government Of Tanzania     9084\n",
      "Danida                     3114\n",
      "Hesawa                     2202\n",
      "Rwssp                      1374\n",
      "World Bank                 1349\n",
      "Kkkt                       1287\n",
      "World Vision               1246\n",
      "Unicef                     1057\n",
      "Tasaf                       877\n",
      "Name: funder, dtype: int64\n"
     ]
    },
    {
     "data": {
      "image/png": "[encoded data removed]",
      "text/plain": [
       "<Figure size 872.125x720 with 1 Axes>"
      ]
     },
     "metadata": {
      "needs_background": "light"
     },
     "output_type": "display_data"
    }
   ],
   "source": [
    "print(len(df_train.funder.value_counts()))\n",
    "print(df_train.funder.value_counts())\n",
    "plot_feature(df_train, 'funder', 'status_group')"
   ]
  },
  {
   "cell_type": "markdown",
   "metadata": {},
   "source": [
    "Looking at the above chart, it seems like funder could be a good predictor sice there are particular funders with significant numbers of disfunctional pumps.  "
   ]
  },
  {
   "cell_type": "code",
   "execution_count": 13,
   "metadata": {},
   "outputs": [
    {
     "name": "stdout",
     "output_type": "stream",
     "text": [
      "2145\n",
      "DWE                     17402\n",
      "Government               1825\n",
      "RWE                      1206\n",
      "Commu                    1060\n",
      "DANIDA                   1050\n",
      "                        ...  \n",
      "George mtoto company        1\n",
      "Elina                       1\n",
      "TCRS/ TWESA                 1\n",
      "IN                          1\n",
      "world vision                1\n",
      "Name: installer, Length: 2145, dtype: int64\n"
     ]
    },
    {
     "data": {
      "text/plain": [
       "['DWE', 'Government', 'RWE', 'Commu', 'DANIDA', 'KKKT', 'Hesawa', '0', 'TCRS']"
      ]
     },
     "execution_count": 13,
     "metadata": {},
     "output_type": "execute_result"
    }
   ],
   "source": [
    "#Now for 'installer'.Lets find the number of categorical values in 'installer', and the top 10 values:\n",
    "values_to_keep(df_train, 'installer', 10, verbose= True)\n"
   ]
  },
  {
   "cell_type": "code",
   "execution_count": 14,
   "metadata": {},
   "outputs": [],
   "source": [
    "#reduce the categorical values of 'installer' to 10, and fill NaN values:\n",
    "df_train = reduce_categorical_values(df_train, 'installer', 10)"
   ]
  },
  {
   "cell_type": "code",
   "execution_count": 15,
   "metadata": {},
   "outputs": [
    {
     "name": "stdout",
     "output_type": "stream",
     "text": [
      "10\n",
      "Other         33635\n",
      "DWE           17402\n",
      "Government     1825\n",
      "RWE            1206\n",
      "Commu          1060\n",
      "DANIDA         1050\n",
      "KKKT            898\n",
      "Hesawa          840\n",
      "0               777\n",
      "TCRS            707\n",
      "Name: installer, dtype: int64\n"
     ]
    },
    {
     "data": {
      "image/png": "[encoded data removed]",
      "text/plain": [
       "<Figure size 872.125x720 with 1 Axes>"
      ]
     },
     "metadata": {
      "needs_background": "light"
     },
     "output_type": "display_data"
    }
   ],
   "source": [
    "print(len(df_train.installer.value_counts()))\n",
    "print(df_train.installer.value_counts())\n",
    "plot_feature(df_train, 'installer', 'status_group')"
   ]
  },
  {
   "cell_type": "markdown",
   "metadata": {},
   "source": [
    "Looks like installer could be a useful predictor as well! Look at 'Goverment' and 'RWE'. "
   ]
  },
  {
   "cell_type": "code",
   "execution_count": 16,
   "metadata": {},
   "outputs": [
    {
     "name": "stdout",
     "output_type": "stream",
     "text": [
      "19287\n",
      "Madukani           508\n",
      "Shuleni            506\n",
      "Majengo            502\n",
      "Kati               373\n",
      "Mtakuja            262\n",
      "                  ... \n",
      "Mnyongo              1\n",
      "Nyameni              1\n",
      "Lulemba              1\n",
      "Aicho Kaskazini      1\n",
      "Barjomot             1\n",
      "Name: subvillage, Length: 19287, dtype: int64\n"
     ]
    },
    {
     "data": {
      "text/plain": [
       "['Madukani',\n",
       " 'Shuleni',\n",
       " 'Majengo',\n",
       " 'Kati',\n",
       " 'Mtakuja',\n",
       " 'Sokoni',\n",
       " 'M',\n",
       " 'Muungano',\n",
       " 'Mbuyuni']"
      ]
     },
     "execution_count": 16,
     "metadata": {},
     "output_type": "execute_result"
    }
   ],
   "source": [
    "#Now for 'subvillage'. Lets find the number of categorical values in 'subvillage', and the top 10 values:\n",
    "values_to_keep(df_train, 'subvillage', 10, verbose= True)"
   ]
  },
  {
   "cell_type": "markdown",
   "metadata": {},
   "source": [
    "Over 19000 various values! And the top 10 do not seem to have a significant amount of the total distribution, therfore it is highly unlikely that any one of these is great predictor, but just in case lets check the distribution of the top 10. "
   ]
  },
  {
   "cell_type": "code",
   "execution_count": 17,
   "metadata": {},
   "outputs": [
    {
     "name": "stdout",
     "output_type": "stream",
     "text": [
      "10\n",
      "Other       56494\n",
      "Madukani      508\n",
      "Shuleni       506\n",
      "Majengo       502\n",
      "Kati          373\n",
      "Mtakuja       262\n",
      "Sokoni        232\n",
      "M             187\n",
      "Muungano      172\n",
      "Mbuyuni       164\n",
      "Name: subvillage, dtype: int64\n"
     ]
    },
    {
     "data": {
      "image/png": "[encoded data removed]",
      "text/plain": [
       "<Figure size 872.125x720 with 1 Axes>"
      ]
     },
     "metadata": {
      "needs_background": "light"
     },
     "output_type": "display_data"
    }
   ],
   "source": [
    "reduce_categorical_values(df_train, 'subvillage', 10)\n",
    "print(len(df_train.subvillage.value_counts()))\n",
    "print(df_train.subvillage.value_counts())\n",
    "plot_feature(df_train, 'subvillage', 'status_group')"
   ]
  },
  {
   "cell_type": "markdown",
   "metadata": {},
   "source": [
    "Because none of the top 10 villages (not counting 'other') have an overwhelming majority of functioning/nonfunctioning this confirms the previous assumption, the subvillage value is likely to be a poor predictor so we can just drop it.  "
   ]
  },
  {
   "cell_type": "code",
   "execution_count": 18,
   "metadata": {},
   "outputs": [],
   "source": [
    "df_train = df_train.drop('subvillage', axis=1)"
   ]
  },
  {
   "cell_type": "code",
   "execution_count": 19,
   "metadata": {},
   "outputs": [
    {
     "name": "stdout",
     "output_type": "stream",
     "text": [
      "2\n",
      "True     51011\n",
      "False     5055\n",
      "Name: public_meeting, dtype: int64\n"
     ]
    },
    {
     "data": {
      "text/plain": [
       "[True, False]"
      ]
     },
     "execution_count": 19,
     "metadata": {},
     "output_type": "execute_result"
    }
   ],
   "source": [
    "#Now for 'public_meeting'. Lets find the number of categorical values in 'public_meeting'.\n",
    "values_to_keep(df_train, 'public_meeting', 10, verbose= True)"
   ]
  },
  {
   "cell_type": "code",
   "execution_count": 20,
   "metadata": {},
   "outputs": [
    {
     "data": {
      "image/png": "[encoded data removed]",
      "text/plain": [
       "<Figure size 512.125x360 with 1 Axes>"
      ]
     },
     "metadata": {
      "needs_background": "light"
     },
     "output_type": "display_data"
    }
   ],
   "source": [
    "#Replace NaN values with \"Unknown\" and visualize the predictor's distribution\n",
    "df_train.public_meeting.fillna(value='Unknown', inplace=True)\n",
    "plot_feature(df_train, 'public_meeting', 'status_group', height=5)"
   ]
  },
  {
   "cell_type": "code",
   "execution_count": 21,
   "metadata": {},
   "outputs": [
    {
     "name": "stdout",
     "output_type": "stream",
     "text": [
      "12\n",
      "VWC                 36793\n",
      "WUG                  5206\n",
      "Water authority      3153\n",
      "WUA                  2883\n",
      "Water Board          2748\n",
      "Parastatal           1680\n",
      "Private operator     1063\n",
      "Company              1061\n",
      "Other                 766\n",
      "SWC                    97\n",
      "Trust                  72\n",
      "None                    1\n",
      "Name: scheme_management, dtype: int64\n"
     ]
    },
    {
     "data": {
      "text/plain": [
       "['VWC',\n",
       " 'WUG',\n",
       " 'Water authority',\n",
       " 'WUA',\n",
       " 'Water Board',\n",
       " 'Parastatal',\n",
       " 'Private operator',\n",
       " 'Company',\n",
       " 'Other']"
      ]
     },
     "execution_count": 21,
     "metadata": {},
     "output_type": "execute_result"
    }
   ],
   "source": [
    "#Now for 'scheme_management'. Lets find the number of categorical values in 'scheme_management'.\n",
    "values_to_keep(df_train, 'scheme_management', 10, verbose= True)"
   ]
  },
  {
   "cell_type": "code",
   "execution_count": 22,
   "metadata": {},
   "outputs": [
    {
     "data": {
      "image/png": "[encoded data removed]",
      "text/plain": [
       "<Figure size 872.125x720 with 1 Axes>"
      ]
     },
     "metadata": {
      "needs_background": "light"
     },
     "output_type": "display_data"
    }
   ],
   "source": [
    "plot_feature(df_train, 'scheme_management', 'status_group')"
   ]
  },
  {
   "cell_type": "markdown",
   "metadata": {},
   "source": [
    "Because the 10th most frequent value has mostly \"non-functioning\" wells, it could be a specific and precise predictor. Lets keep it. So, we'll reduce the number of values to 11, and fill in the ~3000 NaN values. "
   ]
  },
  {
   "cell_type": "code",
   "execution_count": 23,
   "metadata": {},
   "outputs": [
    {
     "name": "stdout",
     "output_type": "stream",
     "text": [
      "11\n",
      "VWC                 36793\n",
      "WUG                  5206\n",
      "Other                4644\n",
      "Water authority      3153\n",
      "WUA                  2883\n",
      "Water Board          2748\n",
      "Parastatal           1680\n",
      "Private operator     1063\n",
      "Company              1061\n",
      "SWC                    97\n",
      "Trust                  72\n",
      "Name: scheme_management, dtype: int64\n"
     ]
    },
    {
     "data": {
      "image/png": "[encoded data removed]",
      "text/plain": [
       "<Figure size 872.125x720 with 1 Axes>"
      ]
     },
     "metadata": {
      "needs_background": "light"
     },
     "output_type": "display_data"
    }
   ],
   "source": [
    "\n",
    "reduce_categorical_values(df_train, 'scheme_management', 12)\n",
    "print(len(df_train.scheme_management.value_counts()))\n",
    "print(df_train.scheme_management.value_counts())\n",
    "plot_feature(df_train, 'scheme_management', 'status_group')"
   ]
  },
  {
   "cell_type": "code",
   "execution_count": 24,
   "metadata": {},
   "outputs": [
    {
     "name": "stdout",
     "output_type": "stream",
     "text": [
      "2\n",
      "True     38852\n",
      "False    17492\n",
      "Name: permit, dtype: int64\n"
     ]
    },
    {
     "data": {
      "text/plain": [
       "[True, False]"
      ]
     },
     "execution_count": 24,
     "metadata": {},
     "output_type": "execute_result"
    }
   ],
   "source": [
    "#Now for 'permit'. Lets find the number of categorical values in 'permit':\n",
    "values_to_keep(df_train, 'permit', 10, verbose= True)"
   ]
  },
  {
   "cell_type": "code",
   "execution_count": 25,
   "metadata": {},
   "outputs": [
    {
     "data": {
      "image/png": "[encoded data removed]",
      "text/plain": [
       "<Figure size 512.125x360 with 1 Axes>"
      ]
     },
     "metadata": {
      "needs_background": "light"
     },
     "output_type": "display_data"
    }
   ],
   "source": [
    "#Another boolean valued category. Let's replace the NaN with 'Unknown'\n",
    "df_train.permit.fillna(value='Unknown', inplace=True)\n",
    "plot_feature(df_train, 'permit', 'status_group', height=5)"
   ]
  },
  {
   "cell_type": "code",
   "execution_count": 26,
   "metadata": {},
   "outputs": [
    {
     "data": {
      "text/plain": [
       "id                       0\n",
       "amount_tsh               0\n",
       "date_recorded            0\n",
       "funder                   0\n",
       "gps_height               0\n",
       "installer                0\n",
       "longitude                0\n",
       "latitude                 0\n",
       "wpt_name                 0\n",
       "num_private              0\n",
       "basin                    0\n",
       "region                   0\n",
       "region_code              0\n",
       "district_code            0\n",
       "lga                      0\n",
       "ward                     0\n",
       "population               0\n",
       "public_meeting           0\n",
       "recorded_by              0\n",
       "scheme_management        0\n",
       "permit                   0\n",
       "construction_year        0\n",
       "extraction_type          0\n",
       "extraction_type_group    0\n",
       "extraction_type_class    0\n",
       "management               0\n",
       "management_group         0\n",
       "payment                  0\n",
       "payment_type             0\n",
       "water_quality            0\n",
       "quality_group            0\n",
       "quantity                 0\n",
       "quantity_group           0\n",
       "source                   0\n",
       "source_type              0\n",
       "source_class             0\n",
       "waterpoint_type          0\n",
       "waterpoint_type_group    0\n",
       "status_group             0\n",
       "dtype: int64"
      ]
     },
     "execution_count": 26,
     "metadata": {},
     "output_type": "execute_result"
    }
   ],
   "source": [
    "df_train.isnull().sum()"
   ]
  },
  {
   "cell_type": "markdown",
   "metadata": {},
   "source": [
    "Great, no more NaN values. Moving on!\n"
   ]
  },
  {
   "cell_type": "code",
   "execution_count": null,
   "metadata": {},
   "outputs": [],
   "source": []
  }
 ],
 "metadata": {
  "kernelspec": {
   "display_name": "Python (tanz-water)",
   "language": "python",
   "name": "tanz-water"
  },
  "language_info": {
   "codemirror_mode": {
    "name": "ipython",
    "version": 3
   },
   "file_extension": ".py",
   "mimetype": "text/x-python",
   "name": "python",
   "nbconvert_exporter": "python",
   "pygments_lexer": "ipython3",
   "version": "3.6.6"
  }
 },
 "nbformat": 4,
 "nbformat_minor": 2
}
