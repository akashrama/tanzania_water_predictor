{
 "cells": [
  {
   "cell_type": "markdown",
   "metadata": {},
   "source": [
    "# Gradient Boosting Classifier"
   ]
  },
  {
   "cell_type": "code",
   "execution_count": 11,
   "metadata": {},
   "outputs": [],
   "source": [
    "%load_ext autoreload\n",
    "%autoreload 2"
   ]
  },
  {
   "cell_type": "code",
   "execution_count": 17,
   "metadata": {},
   "outputs": [],
   "source": [
    "import pickle \n",
    "import pandas as pd\n",
    "import numpy as np\n",
    "from sklearn.model_selection import train_test_split\n",
    "from sklearn.model_selection import GridSearchCV, cross_val_score\n",
    "from sklearn.ensemble import GradientBoostingClassifier\n",
    "from sklearn.metrics import recall_score, hamming_loss, f1_score, precision_score \n",
    "from src.utilities import competition_submission, data_cleaning"
   ]
  },
  {
   "cell_type": "markdown",
   "metadata": {},
   "source": [
    "### Import the pickled dataframes from the Eda_cleaning notebook:"
   ]
  },
  {
   "cell_type": "code",
   "execution_count": 5,
   "metadata": {},
   "outputs": [],
   "source": [
    "with open(\"pump_predictors_data_cleaned.pickle\", \"rb\") as f: # \"wb\" means \"write as bytes\"\n",
    "    dum_df = pickle.load(f)\n",
    "    \n",
    "    \n",
    "with open(\"pump_target_data_cleaned.pickle\", \"rb\") as f: # \"wb\" means \"write as bytes\"\n",
    "    target = pickle.load(f)"
   ]
  },
  {
   "cell_type": "code",
   "execution_count": 6,
   "metadata": {},
   "outputs": [],
   "source": [
    "# Train, test, split:\n",
    "X_train, X_test, y_train, y_test = train_test_split(dum_df, target)\n",
    "\n"
   ]
  },
  {
   "cell_type": "code",
   "execution_count": 151,
   "metadata": {},
   "outputs": [],
   "source": [
    "#running the GridSearch takes several hours, the best params are used below\n",
    "\n",
    "\n",
    "def model_GridSearch(X_train, X_test, y_train, y_test):\n",
    "    \n",
    "    best_params = {'learning_rate': [0.075, 0.7],\n",
    "                      'max_depth': [13, 14],\n",
    "                      'min_samples_leaf': [15, 16],\n",
    "                      'max_features': [1.0],\n",
    "                      'n_estimators': [100, 200]}                     \n",
    "\n",
    "    estimator = GridSearchCV(estimator=GradientBoostingClassifier(),\n",
    "                             param_grid=best_params,\n",
    "                             n_jobs=-1)\n",
    "\n",
    "    estimator.fit(X_train, y_train)\n",
    "\n",
    "    best_params = estimator.best_params_\n",
    "\n",
    "    print (best_params)\n",
    "\n",
    "    validation_accuracy = estimator.score(X_test, y_test)\n",
    "    print('Validation accuracy: ', validation_accuracy)"
   ]
  },
  {
   "cell_type": "code",
   "execution_count": 2,
   "metadata": {},
   "outputs": [],
   "source": [
    "#running the Gradient Boosting Model with the best params found from the Grid Search:\n",
    "\n",
    "\n",
    "def best_GBC_model(X_train, X_test, y_train, y_test):\n",
    "    \n",
    "    best_params = {'learning_rate': [0.075],\n",
    "                        'max_depth': [14],\n",
    "                        'min_samples_leaf': [16],\n",
    "                        'max_features': [1.0],\n",
    "                        'n_estimators': [100]}                     \n",
    "\n",
    "    estimator = GridSearchCV(estimator=GradientBoostingClassifier(),\n",
    "                             param_grid=best_params,\n",
    "                             n_jobs=-1)\n",
    "\n",
    "    estimator.fit(X_train, y_train)\n",
    "\n",
    "    best_params = estimator.best_params_\n",
    "\n",
    "    print (best_params)\n",
    "\n",
    "    validation_accuracy = estimator.score(X_test, y_test)\n",
    "    print('Validation accuracy: ', validation_accuracy)\n",
    "    return estimator"
   ]
  },
  {
   "cell_type": "code",
   "execution_count": 20,
   "metadata": {},
   "outputs": [
    {
     "name": "stdout",
     "output_type": "stream",
     "text": [
      "{'learning_rate': 0.075, 'max_depth': 14, 'max_features': 1.0, 'min_samples_leaf': 16, 'n_estimators': 100}\n",
      "Validation accuracy:  0.8045117845117845\n"
     ]
    }
   ],
   "source": [
    "best_GBC_model(X_train, X_test, y_train, y_test)\n"
   ]
  },
  {
   "cell_type": "code",
   "execution_count": 7,
   "metadata": {},
   "outputs": [
    {
     "name": "stdout",
     "output_type": "stream",
     "text": [
      "{'learning_rate': 0.075, 'max_depth': 14, 'max_features': 1.0, 'min_samples_leaf': 16, 'n_estimators': 100}\n",
      "Validation accuracy:  0.7999326599326599\n"
     ]
    }
   ],
   "source": [
    "gbc = best_GBC_model(X_train, X_test, y_train, y_test)\n"
   ]
  },
  {
   "cell_type": "code",
   "execution_count": 159,
   "metadata": {},
   "outputs": [
    {
     "name": "stdout",
     "output_type": "stream",
     "text": [
      "{'learning_rate': 0.075, 'max_depth': 14, 'max_features': 1.0, 'min_samples_leaf': 16, 'n_estimators': 100}\n",
      "Validation accuracy:  0.800942760942761\n"
     ]
    }
   ],
   "source": [
    "model_GridSearch(X_train, X_test, y_train, y_test)"
   ]
  },
  {
   "cell_type": "markdown",
   "metadata": {},
   "source": [
    "### submit predictions to competition"
   ]
  },
  {
   "cell_type": "code",
   "execution_count": 18,
   "metadata": {},
   "outputs": [
    {
     "name": "stderr",
     "output_type": "stream",
     "text": [
      "/Users/brentsair/anaconda3/envs/tanz-water/lib/python3.6/site-packages/pandas/core/indexing.py:205: SettingWithCopyWarning: \n",
      "A value is trying to be set on a copy of a slice from a DataFrame\n",
      "\n",
      "See the caveats in the documentation: http://pandas.pydata.org/pandas-docs/stable/user_guide/indexing.html#returning-a-view-versus-a-copy\n",
      "  self._setitem_with_indexer(indexer, value)\n"
     ]
    },
    {
     "name": "stdout",
     "output_type": "stream",
     "text": [
      "data is cleaned and encoded\n",
      "Prediction for test data finished\n",
      "Store submission dataframe into file: successfully\n"
     ]
    }
   ],
   "source": [
    "competition_submission.submit_test_data(gbc)"
   ]
  },
  {
   "cell_type": "code",
   "execution_count": null,
   "metadata": {},
   "outputs": [],
   "source": []
  }
 ],
 "metadata": {
  "kernelspec": {
   "display_name": "Python (tanz-water)",
   "language": "python",
   "name": "tanz-water"
  },
  "language_info": {
   "codemirror_mode": {
    "name": "ipython",
    "version": 3
   },
   "file_extension": ".py",
   "mimetype": "text/x-python",
   "name": "python",
   "nbconvert_exporter": "python",
   "pygments_lexer": "ipython3",
   "version": "3.6.6"
  }
 },
 "nbformat": 4,
 "nbformat_minor": 2
}
